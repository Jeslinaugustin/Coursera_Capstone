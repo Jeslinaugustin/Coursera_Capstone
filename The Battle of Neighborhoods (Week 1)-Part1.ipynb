{
    "cells": [
        {
            "cell_type": "markdown",
            "metadata": {},
            "source": "# The Battle of the Neighborhoods - Week 1"
        },
        {
            "cell_type": "markdown",
            "metadata": {},
            "source": "<b>\nIntroduction & Business Problem :</b>"
        },
        {
            "cell_type": "markdown",
            "metadata": {
                "collapsed": true
            },
            "source": "<b>Background</b>"
        },
        {
            "cell_type": "markdown",
            "metadata": {},
            "source": "The city of New York is the most populated city in the country which provides a lot of opportunities to entrepreneurs and business men.Though the opportunities are high the market is highly competitive and needs a detailes analysis before stepping to a new business.\n\nThis project provides a detailed study to open a restaurant in the city at a location so that the income/profit from the same can be increased. The different factors affecting profit, competancy and population are analysed in detail to suggest an exact location to start the restaurant"
        },
        {
            "cell_type": "markdown",
            "metadata": {},
            "source": "<b>Problem Description<b>"
        },
        {
            "cell_type": "markdown",
            "metadata": {},
            "source": "The location of the restaurant has a great impact on the profit/income earned from that.In general quality and variety of dishes,parking area and population and all have a great impact on this.The aim of this project is to suggest a suiable location to open a restaurant in New York City.\n\nThe data including Population,Cusine,Availability of near by restaurants,Type of offices/institutions nearby, Market etc. are analysed to predict the suitable location to open a restaurant\n\n"
        },
        {
            "cell_type": "markdown",
            "metadata": {},
            "source": "<b>Target Category<b/>\n   "
        },
        {
            "cell_type": "markdown",
            "metadata": {},
            "source": "Anyone who like to open a restaurent in New York City"
        },
        {
            "cell_type": "markdown",
            "metadata": {},
            "source": "<b>Success Criteria</b>"
        },
        {
            "cell_type": "markdown",
            "metadata": {},
            "source": "The success criteria of the project will be a good recommendation of borough/Neighborhood choice to anyone based on Lack of such restaurants in that location and nearest suppliers of ingredients"
        },
        {
            "cell_type": "code",
            "execution_count": null,
            "metadata": {},
            "outputs": [],
            "source": ""
        }
    ],
    "metadata": {
        "kernelspec": {
            "display_name": "Python 3.6",
            "language": "python",
            "name": "python3"
        },
        "language_info": {
            "codemirror_mode": {
                "name": "ipython",
                "version": 3
            },
            "file_extension": ".py",
            "mimetype": "text/x-python",
            "name": "python",
            "nbconvert_exporter": "python",
            "pygments_lexer": "ipython3",
            "version": "3.6.9"
        }
    },
    "nbformat": 4,
    "nbformat_minor": 1
}