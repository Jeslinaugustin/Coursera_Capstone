{
    "cells": [
        {
            "cell_type": "markdown",
            "metadata": {
                "collapsed": true
            },
            "source": "# The Battle of Neighborhoods (Week 1)"
        },
        {
            "cell_type": "markdown",
            "metadata": {},
            "source": "<b>City Analysed:<b/> "
        },
        {
            "cell_type": "markdown",
            "metadata": {},
            "source": " New York"
        },
        {
            "cell_type": "markdown",
            "metadata": {},
            "source": "<b>Data Used:<b/>"
        },
        {
            "cell_type": "markdown",
            "metadata": {},
            "source": " Data1:\n In order to segement the neighborhoods and explore them, we will essentially need a dataset that contains the 5 boroughs and the neighborhoods that exist in each borough as well as the the latitude and logitude coordinates of each neighborhood\n Link:https://geo.nyu.edu/catalog/nyu_2451_34572"
        },
        {
            "cell_type": "markdown",
            "metadata": {},
            "source": "Data2:Farmers Market and food basket data in the city "
        },
        {
            "cell_type": "markdown",
            "metadata": {},
            "source": "Farmers Market data is available in the link https://data.cityofnewyork.us/dataset/DOHMH-Farmers-Markets-and-Food-Boxes/8vwk-6iz2"
        },
        {
            "cell_type": "markdown",
            "metadata": {},
            "source": "Food basket data is available at https://www.grownyc.org/greenmarketco/foodbox"
        },
        {
            "cell_type": "markdown",
            "metadata": {},
            "source": "Data3:"
        },
        {
            "cell_type": "markdown",
            "metadata": {},
            "source": "New York Population,\nNew York City Demographics,\nCuisine of New York city, data are available at the link, \nData 3 : For the below analysis we will get data from wikipedia as given below :\n\n\nhttps://en.wikipedia.org/wiki/New_York_City\n"
        },
        {
            "cell_type": "markdown",
            "metadata": {},
            "source": "https://en.wikipedia.org/wiki/Economy_of_New_York_City\n"
        },
        {
            "cell_type": "markdown",
            "metadata": {},
            "source": "https://en.wikipedia.org/wiki/Portal:New_York_City\n"
        },
        {
            "cell_type": "markdown",
            "metadata": {},
            "source": "https://en.wikipedia.org/wiki/Cuisine_of_New_York_City\n"
        },
        {
            "cell_type": "markdown",
            "metadata": {},
            "source": "https://en.wikipedia.org/wiki/List_of_Michelin_starred_restaurants_in_New_York_City"
        },
        {
            "cell_type": "markdown",
            "metadata": {},
            "source": "Data4:"
        },
        {
            "cell_type": "markdown",
            "metadata": {},
            "source": " Newyork city geographical coordinates data will be utilized as input for the Foursquare API, that will be leveraged to provision venues information for each neighborhood.We will use the Foursquare API to explore neighborhoods in New York City"
        },
        {
            "cell_type": "code",
            "execution_count": null,
            "metadata": {},
            "outputs": [],
            "source": ""
        }
    ],
    "metadata": {
        "kernelspec": {
            "display_name": "Python 3.6",
            "language": "python",
            "name": "python3"
        },
        "language_info": {
            "codemirror_mode": {
                "name": "ipython",
                "version": 3
            },
            "file_extension": ".py",
            "mimetype": "text/x-python",
            "name": "python",
            "nbconvert_exporter": "python",
            "pygments_lexer": "ipython3",
            "version": "3.6.9"
        }
    },
    "nbformat": 4,
    "nbformat_minor": 1
}